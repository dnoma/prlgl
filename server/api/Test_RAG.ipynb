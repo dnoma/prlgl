{
 "cells": [
  {
   "cell_type": "code",
   "execution_count": 2,
   "metadata": {},
   "outputs": [
    {
     "name": "stdout",
     "output_type": "stream",
     "text": [
      "Collecting openai\n",
      "  Using cached openai-1.16.1-py3-none-any.whl.metadata (21 kB)\n",
      "Requirement already satisfied: anyio<5,>=3.5.0 in /opt/anaconda3/lib/python3.11/site-packages (from openai) (4.2.0)\n",
      "Requirement already satisfied: distro<2,>=1.7.0 in /opt/anaconda3/lib/python3.11/site-packages (from openai) (1.8.0)\n",
      "Collecting httpx<1,>=0.23.0 (from openai)\n",
      "  Using cached httpx-0.27.0-py3-none-any.whl.metadata (7.2 kB)\n",
      "Requirement already satisfied: pydantic<3,>=1.9.0 in /opt/anaconda3/lib/python3.11/site-packages (from openai) (1.10.12)\n",
      "Requirement already satisfied: sniffio in /opt/anaconda3/lib/python3.11/site-packages (from openai) (1.3.0)\n",
      "Requirement already satisfied: tqdm>4 in /opt/anaconda3/lib/python3.11/site-packages (from openai) (4.65.0)\n",
      "Requirement already satisfied: typing-extensions<5,>=4.7 in /opt/anaconda3/lib/python3.11/site-packages (from openai) (4.9.0)\n",
      "Requirement already satisfied: idna>=2.8 in /opt/anaconda3/lib/python3.11/site-packages (from anyio<5,>=3.5.0->openai) (3.4)\n",
      "Requirement already satisfied: certifi in /opt/anaconda3/lib/python3.11/site-packages (from httpx<1,>=0.23.0->openai) (2024.2.2)\n",
      "Collecting httpcore==1.* (from httpx<1,>=0.23.0->openai)\n",
      "  Using cached httpcore-1.0.5-py3-none-any.whl.metadata (20 kB)\n",
      "Collecting h11<0.15,>=0.13 (from httpcore==1.*->httpx<1,>=0.23.0->openai)\n",
      "  Using cached h11-0.14.0-py3-none-any.whl.metadata (8.2 kB)\n",
      "Using cached openai-1.16.1-py3-none-any.whl (266 kB)\n",
      "Using cached httpx-0.27.0-py3-none-any.whl (75 kB)\n",
      "Using cached httpcore-1.0.5-py3-none-any.whl (77 kB)\n",
      "Using cached h11-0.14.0-py3-none-any.whl (58 kB)\n",
      "Installing collected packages: h11, httpcore, httpx, openai\n",
      "Successfully installed h11-0.14.0 httpcore-1.0.5 httpx-0.27.0 openai-1.16.1\n"
     ]
    }
   ],
   "source": [
    "!pip install openai"
   ]
  },
  {
   "cell_type": "code",
   "execution_count": 3,
   "metadata": {},
   "outputs": [
    {
     "ename": "ValueError",
     "evalue": "No OpenAI API key found in environment variables",
     "output_type": "error",
     "traceback": [
      "\u001b[0;31m---------------------------------------------------------------------------\u001b[0m",
      "\u001b[0;31mValueError\u001b[0m                                Traceback (most recent call last)",
      "Cell \u001b[0;32mIn[3], line 1\u001b[0m\n\u001b[0;32m----> 1\u001b[0m \u001b[38;5;28;01mfrom\u001b[39;00m \u001b[38;5;21;01mllm\u001b[39;00m \u001b[38;5;28;01mimport\u001b[39;00m get_completion\n\u001b[1;32m      2\u001b[0m \u001b[38;5;28;01mimport\u001b[39;00m \u001b[38;5;21;01mservices\u001b[39;00m\n\u001b[1;32m      3\u001b[0m \u001b[38;5;28;01mfrom\u001b[39;00m \u001b[38;5;21;01mservices\u001b[39;00m \u001b[38;5;28;01mimport\u001b[39;00m PDF_base\n",
      "File \u001b[0;32m~/Documents/projects/Craft/prlgl/server/api/llm.py:10\u001b[0m\n\u001b[1;32m      7\u001b[0m OPENAI_API_KEY \u001b[38;5;241m=\u001b[39m os\u001b[38;5;241m.\u001b[39mgetenv(\u001b[38;5;124m'\u001b[39m\u001b[38;5;124mOPENAI_API_KEY\u001b[39m\u001b[38;5;124m'\u001b[39m)\n\u001b[1;32m      9\u001b[0m \u001b[38;5;28;01mif\u001b[39;00m \u001b[38;5;129;01mnot\u001b[39;00m OPENAI_API_KEY:\n\u001b[0;32m---> 10\u001b[0m     \u001b[38;5;28;01mraise\u001b[39;00m \u001b[38;5;167;01mValueError\u001b[39;00m(\u001b[38;5;124m\"\u001b[39m\u001b[38;5;124mNo OpenAI API key found in environment variables\u001b[39m\u001b[38;5;124m\"\u001b[39m)\n\u001b[1;32m     12\u001b[0m DEFAULT_MODEL \u001b[38;5;241m=\u001b[39m \u001b[38;5;124m'\u001b[39m\u001b[38;5;124mgpt-3.5-turbo\u001b[39m\u001b[38;5;124m'\u001b[39m\n\u001b[1;32m     13\u001b[0m DEFAULT_MAX_TOKENS \u001b[38;5;241m=\u001b[39m \u001b[38;5;241m1200\u001b[39m\n",
      "\u001b[0;31mValueError\u001b[0m: No OpenAI API key found in environment variables"
     ]
    }
   ],
   "source": [
    "from llm import get_completion\n",
    "import services\n",
    "from services import PDF_base\n",
    "from services import extract_institution\n",
    "from services import *"
   ]
  },
  {
   "cell_type": "code",
   "execution_count": 2,
   "metadata": {},
   "outputs": [],
   "source": [
    "# Example request\n",
    "\n",
    "data = {'clause': \"If there is any dispute or difference arising out of or relating to this contract, or the breach thereof which cannot be settled amicably, the parties may refer to arbitration. Such arbitration will be in Singapore in accordance with the rules of the Singapore International Arbitration Centre.\",\n",
    "        \n",
    "        'rule': \"Uncertainty may arise in arbitration clauses which use the term 'may' instead of 'shall'. This suggests that the parties are not obliged to arbitrate.\", \n",
    "        \n",
    "        'error': 'may refer to arbitration'}"
   ]
  },
  {
   "cell_type": "code",
   "execution_count": 3,
   "metadata": {},
   "outputs": [],
   "source": [
    "clause = data['clause']\n",
    "rule = data['rule']\n",
    "error = data['error']"
   ]
  },
  {
   "cell_type": "code",
   "execution_count": 4,
   "metadata": {},
   "outputs": [],
   "source": [
    "pdf_file_path = \"Sample.PDF\""
   ]
  },
  {
   "cell_type": "code",
   "execution_count": 5,
   "metadata": {},
   "outputs": [],
   "source": [
    "pdf_bot = PDF_base(pdf_file_path)"
   ]
  },
  {
   "cell_type": "code",
   "execution_count": 6,
   "metadata": {},
   "outputs": [
    {
     "name": "stdout",
     "output_type": "stream",
     "text": [
      "[{\n",
      "    \"Critical Issue\": \"The clause uses the term 'may' instead of 'shall' when referring to arbitration\",\n",
      "    \"Context and legal implications\": \"Using 'may' instead of 'shall' in an arbitration clause suggests that the parties are not obligated to arbitrate, leading to uncertainty and potential disputes in the future. This ambiguity may result in one party refusing to participate in arbitration, causing delays and additional legal costs.\",\n",
      "    \"Suggestion\": \"The clause should be revised to use the term 'shall' to clearly indicate that arbitration is mandatory if the dispute cannot be settled amicably. This will ensure that both parties are bound to the arbitration process and prevent any misunderstandings or disputes regarding the resolution of conflicts.\"\n",
      "}]\n"
     ]
    }
   ],
   "source": [
    "reply = pdf_bot.genAI_dict_error_response(clause, rule, error)"
   ]
  },
  {
   "cell_type": "code",
   "execution_count": 7,
   "metadata": {},
   "outputs": [
    {
     "name": "stdout",
     "output_type": "stream",
     "text": [
      "[{'Critical Issue': \"The clause uses the term 'may' instead of 'shall' when referring to arbitration\", 'Context and legal implications': \"Using 'may' instead of 'shall' in an arbitration clause suggests that the parties are not obligated to arbitrate, leading to uncertainty and potential disputes in the future. This ambiguity may result in one party refusing to participate in arbitration, causing delays and additional legal costs.\", 'Suggestion': \"The clause should be revised to use the term 'shall' to clearly indicate that arbitration is mandatory if the dispute cannot be settled amicably. This will ensure that both parties are bound to the arbitration process and prevent any misunderstandings or disputes regarding the resolution of conflicts.\"}]\n"
     ]
    }
   ],
   "source": [
    "print(reply)"
   ]
  },
  {
   "cell_type": "code",
   "execution_count": 19,
   "metadata": {},
   "outputs": [
    {
     "name": "stdout",
     "output_type": "stream",
     "text": [
      "[{\n",
      "    \"Critical Issue\": \"The clause uses the term 'may' instead of 'shall' when referring to arbitration\",\n",
      "    \"Context and legal implications\": \"Using 'may' instead of 'shall' in an arbitration clause suggests that the parties are not obligated to arbitrate, leading to uncertainty and potential disputes in the future. This ambiguity may result in one party refusing to participate in arbitration, arguing that it is not mandatory.\",\n",
      "    \"Suggestion\": \"The clause should be revised to use the term 'shall' instead of 'may' to clearly indicate that arbitration is mandatory in case of disputes, ensuring both parties are bound to the arbitration process.\"\n",
      "}]\n"
     ]
    }
   ],
   "source": [
    "# updated_input  = QNA_TEMPLATE_dict_error.format(context=context, rule=rule, clause=clause, error=error)\n",
    "\n",
    "# sys_message = f\"\"\"\n",
    "# You are a legal assistant here to help the user with contract reviewing to explain the error \\\n",
    "# behind the clauses.\n",
    "\n",
    "# When given an example of a contractual clause which gives rise to potential critical legal issues, you are to \\\n",
    "# conduct the following, using your uploaded knowledge and in simple and concise English:\n",
    "\n",
    "# Your answer should follow the interview answer format, consisting of complete sentences that directly address the question\n",
    "\n",
    "# 1. Highlight these critical issues.\n",
    "# 2. Contextualise and explain its legal implications.\n",
    "# 3. Make relevant suggestions for change.\n",
    "\n",
    "# If there is no issue with the given clause, reflect that there is no issue as 'No issue found'.\n",
    "\n",
    "# Example:\n",
    "\n",
    "# user: ```clause....```\n",
    "\n",
    "# output if there is no issue with the given clause: ```No issue found```\n",
    "\n",
    "# output if there is an issue with the given clause:\n",
    "\n",
    "# [{{\n",
    "#     \"Critical Issue\": \"The clause is ambiguous\",\n",
    "#     \"Context and legal implications\": \"The clause does not clearly define the terms of the agreement\",\n",
    "#     \"Suggestion\": \"The clause should e rewritten to clearly define the terms of the agreement\"\n",
    "# }}]\n",
    "    \n",
    "# \"\"\"\n",
    "\n",
    "# messages = [{\"role\": \"system\", \"content\": sys_message},\n",
    "#             {\"role\": \"user\", \"content\": updated_input}]\n",
    "\n",
    "# response = get_completion(messages)\n",
    "\n",
    "# reply = response.choices[0].message.content\n",
    "\n",
    "# print(reply)\n",
    "\n",
    "# reply = ast.literal_eval(reply)\n"
   ]
  }
 ],
 "metadata": {
  "kernelspec": {
   "display_name": "clausify",
   "language": "python",
   "name": "python3"
  },
  "language_info": {
   "codemirror_mode": {
    "name": "ipython",
    "version": 3
   },
   "file_extension": ".py",
   "mimetype": "text/x-python",
   "name": "python",
   "nbconvert_exporter": "python",
   "pygments_lexer": "ipython3",
   "version": "3.11.7"
  }
 },
 "nbformat": 4,
 "nbformat_minor": 2
}
