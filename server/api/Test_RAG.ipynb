{
 "cells": [
  {
   "cell_type": "code",
   "execution_count": 1,
   "metadata": {},
   "outputs": [],
   "source": [
    "from llm import get_completion\n",
    "import services\n",
    "from services import PDF_base\n",
    "from services import extract_institution\n",
    "from services import *"
   ]
  },
  {
   "cell_type": "code",
   "execution_count": 2,
   "metadata": {},
   "outputs": [],
   "source": [
    "# Example request\n",
    "\n",
    "data = {'clause': \"If there is any dispute or difference arising out of or relating to this contract, or the breach thereof which cannot be settled amicably, the parties may refer to arbitration. Such arbitration will be in Singapore in accordance with the rules of the Singapore International Arbitration Centre.\",\n",
    "        \n",
    "        'rule': \"Uncertainty may arise in arbitration clauses which use the term 'may' instead of 'shall'. This suggests that the parties are not obliged to arbitrate.\", \n",
    "        \n",
    "        'error': 'may refer to arbitration'}"
   ]
  },
  {
   "cell_type": "code",
   "execution_count": 3,
   "metadata": {},
   "outputs": [],
   "source": [
    "clause = data['clause']\n",
    "rule = data['rule']\n",
    "error = data['error']"
   ]
  },
  {
   "cell_type": "code",
   "execution_count": 4,
   "metadata": {},
   "outputs": [],
   "source": [
    "pdf_file_path = \"Sample.PDF\""
   ]
  },
  {
   "cell_type": "code",
   "execution_count": 5,
   "metadata": {},
   "outputs": [],
   "source": [
    "pdf_bot = PDF_base(pdf_file_path)"
   ]
  },
  {
   "cell_type": "code",
   "execution_count": 6,
   "metadata": {},
   "outputs": [
    {
     "name": "stdout",
     "output_type": "stream",
     "text": [
      "[{\n",
      "    \"Critical Issue\": \"The clause uses the term 'may' instead of 'shall' when referring to arbitration\",\n",
      "    \"Context and legal implications\": \"Using 'may' instead of 'shall' in an arbitration clause suggests that the parties are not obligated to arbitrate, leading to uncertainty and potential disputes in the future. This ambiguity may result in one party refusing to participate in arbitration, causing delays and additional legal costs.\",\n",
      "    \"Suggestion\": \"The clause should be revised to use the term 'shall' to clearly indicate that arbitration is mandatory if the dispute cannot be settled amicably. This will ensure that both parties are bound to the arbitration process and prevent any misunderstandings or disputes regarding the resolution of conflicts.\"\n",
      "}]\n"
     ]
    }
   ],
   "source": [
    "reply = pdf_bot.genAI_dict_error_response(clause, rule, error)"
   ]
  },
  {
   "cell_type": "code",
   "execution_count": 7,
   "metadata": {},
   "outputs": [
    {
     "name": "stdout",
     "output_type": "stream",
     "text": [
      "[{'Critical Issue': \"The clause uses the term 'may' instead of 'shall' when referring to arbitration\", 'Context and legal implications': \"Using 'may' instead of 'shall' in an arbitration clause suggests that the parties are not obligated to arbitrate, leading to uncertainty and potential disputes in the future. This ambiguity may result in one party refusing to participate in arbitration, causing delays and additional legal costs.\", 'Suggestion': \"The clause should be revised to use the term 'shall' to clearly indicate that arbitration is mandatory if the dispute cannot be settled amicably. This will ensure that both parties are bound to the arbitration process and prevent any misunderstandings or disputes regarding the resolution of conflicts.\"}]\n"
     ]
    }
   ],
   "source": [
    "print(reply)"
   ]
  },
  {
   "cell_type": "code",
   "execution_count": 19,
   "metadata": {},
   "outputs": [
    {
     "name": "stdout",
     "output_type": "stream",
     "text": [
      "[{\n",
      "    \"Critical Issue\": \"The clause uses the term 'may' instead of 'shall' when referring to arbitration\",\n",
      "    \"Context and legal implications\": \"Using 'may' instead of 'shall' in an arbitration clause suggests that the parties are not obligated to arbitrate, leading to uncertainty and potential disputes in the future. This ambiguity may result in one party refusing to participate in arbitration, arguing that it is not mandatory.\",\n",
      "    \"Suggestion\": \"The clause should be revised to use the term 'shall' instead of 'may' to clearly indicate that arbitration is mandatory in case of disputes, ensuring both parties are bound to the arbitration process.\"\n",
      "}]\n"
     ]
    }
   ],
   "source": [
    "# updated_input  = QNA_TEMPLATE_dict_error.format(context=context, rule=rule, clause=clause, error=error)\n",
    "\n",
    "# sys_message = f\"\"\"\n",
    "# You are a legal assistant here to help the user with contract reviewing to explain the error \\\n",
    "# behind the clauses.\n",
    "\n",
    "# When given an example of a contractual clause which gives rise to potential critical legal issues, you are to \\\n",
    "# conduct the following, using your uploaded knowledge and in simple and concise English:\n",
    "\n",
    "# Your answer should follow the interview answer format, consisting of complete sentences that directly address the question\n",
    "\n",
    "# 1. Highlight these critical issues.\n",
    "# 2. Contextualise and explain its legal implications.\n",
    "# 3. Make relevant suggestions for change.\n",
    "\n",
    "# If there is no issue with the given clause, reflect that there is no issue as 'No issue found'.\n",
    "\n",
    "# Example:\n",
    "\n",
    "# user: ```clause....```\n",
    "\n",
    "# output if there is no issue with the given clause: ```No issue found```\n",
    "\n",
    "# output if there is an issue with the given clause:\n",
    "\n",
    "# [{{\n",
    "#     \"Critical Issue\": \"The clause is ambiguous\",\n",
    "#     \"Context and legal implications\": \"The clause does not clearly define the terms of the agreement\",\n",
    "#     \"Suggestion\": \"The clause should e rewritten to clearly define the terms of the agreement\"\n",
    "# }}]\n",
    "    \n",
    "# \"\"\"\n",
    "\n",
    "# messages = [{\"role\": \"system\", \"content\": sys_message},\n",
    "#             {\"role\": \"user\", \"content\": updated_input}]\n",
    "\n",
    "# response = get_completion(messages)\n",
    "\n",
    "# reply = response.choices[0].message.content\n",
    "\n",
    "# print(reply)\n",
    "\n",
    "# reply = ast.literal_eval(reply)\n"
   ]
  }
 ],
 "metadata": {
  "kernelspec": {
   "display_name": "clausify",
   "language": "python",
   "name": "python3"
  },
  "language_info": {
   "codemirror_mode": {
    "name": "ipython",
    "version": 3
   },
   "file_extension": ".py",
   "mimetype": "text/x-python",
   "name": "python",
   "nbconvert_exporter": "python",
   "pygments_lexer": "ipython3",
   "version": "3.9.18"
  }
 },
 "nbformat": 4,
 "nbformat_minor": 2
}
