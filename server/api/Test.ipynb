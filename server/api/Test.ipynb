{
 "cells": [
  {
   "cell_type": "code",
   "execution_count": 6,
   "metadata": {},
   "outputs": [],
   "source": [
    "from llm import get_completion\n",
    "import ast"
   ]
  },
  {
   "cell_type": "code",
   "execution_count": 42,
   "metadata": {},
   "outputs": [],
   "source": [
    "def extract_insitution(clause):\n",
    "    sys_message = f\"\"\"\n",
    "    You are a legal assistant here to help the user with contract reviewing who is an expert in \\\n",
    "    natural language processing and especially name entity recognition for legal institutions.\n",
    "    \n",
    "    Your primary task entails identifying and extracting all legal-related institutions from the provided clause. \\\n",
    "    \n",
    "    These institutions should adhere to the following criteria: they should not correspond to the name of a country.\n",
    "    \n",
    "    In the event that no legal institutions meeting the specified criteria are found within the clause, please respond with 'No legal institutions found'.\n",
    "    \n",
    "    Example:\n",
    "    \n",
    "    user: ```clause....```\n",
    "    \n",
    "    output if there are legal institutions in the clause: ```[\"institution_1\", \"institution_2\", \"institution_3\"]```\n",
    "    \n",
    "    output if there are no legal institutions in the clause: ```[\"No legal institutions found\"]```\n",
    "    \n",
    "    \"\"\"        \n",
    "    \n",
    "    messages = [{\"role\": \"system\", \"content\": sys_message},\n",
    "                {\"role\": \"user\", \"content\": clause}]\n",
    "    \n",
    "    response = get_completion(messages)\n",
    "    reply = response.choices[0].message.content\n",
    "    \n",
    "    print(reply)\n",
    "    \n",
    "    reply = ast.literal_eval(reply)\n",
    "    \n",
    "    for name in reply:\n",
    "        if not name.split()[0].istitle():\n",
    "            reply.remove(name)\n",
    "    if len(reply) == 0:\n",
    "        reply = [\"No legal institutions found\"]\n",
    "    \n",
    "    return reply"
   ]
  },
  {
   "cell_type": "code",
   "execution_count": 46,
   "metadata": {},
   "outputs": [],
   "source": [
    "clauses = \"\"\"\n",
    "Any dispute or difference arising out of or relating to this contract, or the breach thereof which cannot be settled amicably without undue delay by the interested parties shall be arbitrated in Singapore and in accordance with the rules of procedure of the Singapore International Arbitration Centre (SIAC). The award shall be only persuasive and not binding.\n",
    "Any dispute of this contract shall be referred to arbitration. Any arbitration proceedings arising from this contract is to be arbitrated in Singapore and governed by the rules of the Raffles Town Country Club.\n",
    "\n",
    "\"\"\""
   ]
  },
  {
   "cell_type": "code",
   "execution_count": 47,
   "metadata": {},
   "outputs": [
    {
     "name": "stdout",
     "output_type": "stream",
     "text": [
      "[\"Singapore International Arbitration Centre (SIAC)\", \"Raffles Town Country Club\"]\n",
      "['Singapore International Arbitration Centre (SIAC)', 'Raffles Town Country Club']\n"
     ]
    }
   ],
   "source": [
    "print(extract_insitution(clauses))"
   ]
  },
  {
   "cell_type": "code",
   "execution_count": 45,
   "metadata": {},
   "outputs": [
    {
     "data": {
      "text/plain": [
       "['Loss Adjuster']"
      ]
     },
     "execution_count": 45,
     "metadata": {},
     "output_type": "execute_result"
    }
   ],
   "source": [
    "A"
   ]
  }
 ],
 "metadata": {
  "kernelspec": {
   "display_name": "clausify",
   "language": "python",
   "name": "python3"
  },
  "language_info": {
   "codemirror_mode": {
    "name": "ipython",
    "version": 3
   },
   "file_extension": ".py",
   "mimetype": "text/x-python",
   "name": "python",
   "nbconvert_exporter": "python",
   "pygments_lexer": "ipython3",
   "version": "3.9.18"
  }
 },
 "nbformat": 4,
 "nbformat_minor": 2
}
